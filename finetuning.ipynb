{
 "cells": [
  {
   "cell_type": "code",
   "execution_count": 1,
   "metadata": {},
   "outputs": [],
   "source": [
    "import pandas as pd"
   ]
  },
  {
   "cell_type": "code",
   "execution_count": 2,
   "metadata": {},
   "outputs": [],
   "source": [
    "df = pd.read_excel('db_28_2_excel/Knowledge.xlsx')"
   ]
  },
  {
   "cell_type": "code",
   "execution_count": 4,
   "metadata": {},
   "outputs": [
    {
     "data": {
      "text/plain": [
       "array(['Administration and Management', 'Administrative',\n",
       "       'Economics and Accounting', 'Sales and Marketing',\n",
       "       'Customer and Personal Service', 'Personnel and Human Resources',\n",
       "       'Production and Processing', 'Food Production',\n",
       "       'Computers and Electronics', 'Engineering and Technology',\n",
       "       'Design', 'Building and Construction', 'Mechanical', 'Mathematics',\n",
       "       'Physics', 'Chemistry', 'Biology', 'Psychology',\n",
       "       'Sociology and Anthropology', 'Geography',\n",
       "       'Medicine and Dentistry', 'Therapy and Counseling',\n",
       "       'Education and Training', 'English Language', 'Foreign Language',\n",
       "       'Fine Arts', 'History and Archeology', 'Philosophy and Theology',\n",
       "       'Public Safety and Security', 'Law and Government',\n",
       "       'Telecommunications', 'Communications and Media', 'Transportation'],\n",
       "      dtype=object)"
      ]
     },
     "execution_count": 4,
     "metadata": {},
     "output_type": "execute_result"
    }
   ],
   "source": [
    "df['Element Name'].unique()"
   ]
  },
  {
   "cell_type": "code",
   "execution_count": 7,
   "metadata": {},
   "outputs": [],
   "source": [
    "majors = [\n",
    "    \"Accounting\", \"Actuarial Science\", \"Aerospace Engineering\", \"African Studies\", \"Agricultural Business\", \"Agricultural Economics\", \"Agricultural Engineering\", \"Agricultural Science\", \"American Studies\", \"Animal Science\", \"Anthropology\", \"Applied Mathematics\", \"Arabic Studies\", \"Architecture\", \"Art History\", \"Asian Studies\", \"Astronomy\", \"Astrophysics\", \"Biochemistry\", \"Bioengineering\", \"Bioinformatics\", \"Biological Engineering\", \"Biology\", \"Biomedical Engineering\", \"Biophysics\", \"Biotechnology\", \"Business Administration\", \"Business Analytics\", \"Business Economics\", \"Business Information Systems\", \"Business Management\", \"Chemical Engineering\", \"Chemistry\", \"Chinese Studies\", \"Civil Engineering\", \"Classics\", \"Cognitive Science\", \"Communication Studies\", \"Computational Biology\", \"Computer Engineering\", \"Computer Science\", \"Construction Management\", \"Criminal Justice\", \"Criminology\", \"Culinary Arts\", \"Dance\", \"Data Science\", \"Design Studies\", \"Digital Media\", \"Drama\", \"Earth Science\", \"Ecology\", \"Economics\", \"Education\", \"Electrical Engineering\", \"Energy Engineering\", \"Engineering Management\", \"Engineering Physics\", \"English\", \"Entrepreneurship\", \"Environmental Engineering\", \"Environmental Science\", \"Environmental Studies\", \"Ethnic Studies\", \"European Studies\", \"Exercise Science\", \"Family and Consumer Sciences\", \"Fashion Design\", \"Film Studies\", \"Finance\", \"Fire Science\", \"Food Science\", \"Forensic Science\", \"French Studies\", \"Game Design\", \"Gender Studies\", \"Geographic Information Systems\", \"Geography\", \"Geology\", \"Geophysics\", \"German Studies\", \"Graphic Design\", \"Health Administration\", \"Health Sciences\", \"History\", \"Hospitality Management\", \"Human Resources Management\", \"Industrial Engineering\", \"Information Science\", \"Information Systems\", \"Information Technology\", \"Interior Design\", \"International Business\", \"International Relations\", \"International Studies\", \"Italian Studies\", \"Japanese Studies\", \"Journalism\", \"Kinesiology\", \"Landscape Architecture\", \"Latin American Studies\", \"Law\", \"Linguistics\", \"Literature\", \"Logistics\", \"Management Information Systems\", \"Marine Biology\", \"Marketing\", \"Materials Science and Engineering\", \"Mathematics\", \"Mechanical Engineering\", \"Media Studies\", \"Medical Laboratory Science\", \"Microbiology\", \"Middle Eastern Studies\", \"Military Science\", \"Molecular Biology\", \"Music\", \"Music Education\", \"Music Performance\", \"Music Production\", \"Music Therapy\", \"Natural Resources Management\", \"Naval Architecture\", \"Neuroscience\", \"Nuclear Engineering\", \"Nursing\", \"Nutrition\", \"Operations Management\", \"Operations Research\", \"Organizational Leadership\", \"Philosophy\", \"Photography\", \"Physical Education\", \"Physics\", \"Political Science\", \"Psychology\", \"Public Administration\", \"Public Health\", \"Public Policy\", \"Public Relations\", \"Real Estate\", \"Religious Studies\", \"Risk Management\", \"Russian Studies\", \"Social Work\", \"Sociology\", \"Software Engineering\", \"Spanish Studies\", \"Sport Management\", \"Statistics\", \"Supply Chain Management\", \"Sustainability Studies\", \"Theatre\", \"Urban Planning\", \"Veterinary Science\", \"Visual Arts\", \"Web Design\", \"Wildlife Ecology\", \"Women's Studies\", \"Writing\"\n",
    "]\n"
   ]
  },
  {
   "cell_type": "code",
   "execution_count": 22,
   "metadata": {},
   "outputs": [
    {
     "ename": "TypeError",
     "evalue": "add() got an unexpected keyword argument 'case_sensitive'",
     "output_type": "error",
     "traceback": [
      "\u001b[0;31m---------------------------------------------------------------------------\u001b[0m",
      "\u001b[0;31mTypeError\u001b[0m                                 Traceback (most recent call last)",
      "Cell \u001b[0;32mIn[22], line 13\u001b[0m\n\u001b[1;32m     11\u001b[0m academic_qualifications \u001b[38;5;241m=\u001b[39m specializations\u001b[38;5;241m.\u001b[39mmajors\n\u001b[1;32m     12\u001b[0m \u001b[38;5;28;01mfor\u001b[39;00m qual \u001b[38;5;129;01min\u001b[39;00m nlp\u001b[38;5;241m.\u001b[39mtokenizer\u001b[38;5;241m.\u001b[39mpipe(academic_qualifications):\n\u001b[0;32m---> 13\u001b[0m     \u001b[43mmatcher\u001b[49m\u001b[38;5;241;43m.\u001b[39;49m\u001b[43madd\u001b[49m\u001b[43m(\u001b[49m\u001b[38;5;124;43m\"\u001b[39;49m\u001b[38;5;124;43mACADEMIC_QUALIFICATION\u001b[39;49m\u001b[38;5;124;43m\"\u001b[39;49m\u001b[43m,\u001b[49m\u001b[43m \u001b[49m\u001b[38;5;28;43;01mNone\u001b[39;49;00m\u001b[43m,\u001b[49m\u001b[43m \u001b[49m\u001b[43mnlp\u001b[49m\u001b[43m(\u001b[49m\u001b[43mqual\u001b[49m\u001b[43m)\u001b[49m\u001b[43m,\u001b[49m\u001b[43m \u001b[49m\u001b[43mcase_sensitive\u001b[49m\u001b[38;5;241;43m=\u001b[39;49m\u001b[38;5;28;43;01mFalse\u001b[39;49;00m\u001b[43m)\u001b[49m\n",
      "File \u001b[0;32m~/Documents/Personal Project/NLP-Project/venv/lib/python3.11/site-packages/spacy/matcher/phrasematcher.pyx:158\u001b[0m, in \u001b[0;36mspacy.matcher.phrasematcher.PhraseMatcher.add\u001b[0;34m()\u001b[0m\n",
      "\u001b[0;31mTypeError\u001b[0m: add() got an unexpected keyword argument 'case_sensitive'"
     ]
    }
   ],
   "source": [
    "import spacy\n",
    "from spacy.tokens import Span\n",
    "from spacy.matcher import PhraseMatcher\n",
    "import specializations\n",
    "\n",
    "# Load a blank spaCy NER model\n",
    "nlp = spacy.blank(\"en\")\n",
    "\n",
    "# Initialize a PhraseMatcher with the academic qualifications\n",
    "matcher = PhraseMatcher(nlp.vocab)\n",
    "academic_qualifications = specializations.majors\n",
    "for qual in nlp.tokenizer.pipe(academic_qualifications):\n",
    "    matcher.add(\"ACADEMIC_QUALIFICATION\", None, nlp(qual), case_sensitive=False)\n"
   ]
  },
  {
   "cell_type": "code",
   "execution_count": null,
   "metadata": {},
   "outputs": [],
   "source": [
    "nlp.to_disk()"
   ]
  },
  {
   "cell_type": "code",
   "execution_count": 21,
   "metadata": {},
   "outputs": [
    {
     "name": "stdout",
     "output_type": "stream",
     "text": [
      "Academic qualifications detected: []\n",
      "Academic qualifications detected: ['Economics', 'Accounting']\n",
      "Academic qualifications detected: ['Psychology']\n"
     ]
    }
   ],
   "source": [
    "# Define a function to extract academic qualifications from text\n",
    "def extract_academic_qualifications(text):\n",
    "    doc = nlp(text)\n",
    "    matches = matcher(doc)\n",
    "    academic_quals = []\n",
    "    for match_id, start, end in matches:\n",
    "        span = doc[start:end]\n",
    "        academic_quals.append(span.text)\n",
    "    return academic_quals\n",
    "\n",
    "# Example sentences\n",
    "sentences = [\"I have a degree in political science.\",\n",
    "             \"She studied Economics and Accounting at university.\",\n",
    "             \"He holds a Ph.D. in Psychology.\"]\n",
    "\n",
    "# Extract academic qualifications from each sentence\n",
    "for sentence in sentences:\n",
    "    academic_quals = extract_academic_qualifications(sentence)\n",
    "    print(\"Academic qualifications detected:\", academic_quals)\n"
   ]
  },
  {
   "cell_type": "code",
   "execution_count": null,
   "metadata": {},
   "outputs": [],
   "source": []
  }
 ],
 "metadata": {
  "kernelspec": {
   "display_name": "venv",
   "language": "python",
   "name": "python3"
  },
  "language_info": {
   "codemirror_mode": {
    "name": "ipython",
    "version": 3
   },
   "file_extension": ".py",
   "mimetype": "text/x-python",
   "name": "python",
   "nbconvert_exporter": "python",
   "pygments_lexer": "ipython3",
   "version": "3.11.2"
  }
 },
 "nbformat": 4,
 "nbformat_minor": 2
}
